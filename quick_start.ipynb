{
 "cells": [
  {
   "cell_type": "code",
   "execution_count": 1,
   "id": "8e04eec3",
   "metadata": {},
   "outputs": [
    {
     "name": "stdout",
     "output_type": "stream",
     "text": [
      "成功读取原始图文件，包含 1537 个节点和 2297 条边\n",
      "原始图是连通的\n",
      "重构后的图是连通的，所有节点可以互相到达\n",
      "处理完成! 重构后的图包含 1537 个节点和 2266 条边\n",
      "已构建KD树用于空间匹配\n",
      "成功读取订单数据，包含 1273 条记录\n"
     ]
    },
    {
     "name": "stderr",
     "output_type": "stream",
     "text": [
      "匹配订单到路网: 100%|██████████| 1273/1273 [00:00<00:00, 9841.86it/s]\n"
     ]
    },
    {
     "name": "stdout",
     "output_type": "stream",
     "text": [
      "已初始化车队，共 10 辆出租车\n",
      "已初始化订单系统，共 1273 个订单\n",
      "已初始化出租车匹配策略: nearest\n",
      "已初始化出租车重定位策略: random\n",
      "开始仿真，当前时间: 28800, 目标时间步: 144\n"
     ]
    },
    {
     "name": "stderr",
     "output_type": "stream",
     "text": [
      "Simulation Progress: 100%|██████████| 144/144 [00:09<00:00, 15.89step/s]"
     ]
    },
    {
     "name": "stdout",
     "output_type": "stream",
     "text": [
      "仿真结束，当前时间: 72000\n",
      "订单数据已成功导出到: /home/yuhao/project/TrafficSimulator/results/orders_history_20250427_1829.json\n",
      "车队历史记录已成功保存至 /home/yuhao/project/TrafficSimulator/results/fleet_history_20250427_1829.json\n",
      "===== 订单关键指标分析报告 =====\n",
      "1. 订单总数: 863\n",
      "2. 响应率: 66.16%\n",
      "3. 平均响应等待时间: 165.43 时间单位\n",
      "   (从订单请求到分配出租车的平均时间)\n",
      "4. 平均响应后的接客时间: 174.65 时间单位\n",
      "   (从分配出租车到接客的平均时间)\n",
      "5. 平均行程时间: 315.73 时间单位\n",
      "   (从接客到送达的平均时间)\n",
      "6. 特殊情况订单:\n",
      "   - 无接客时间但有送达时间的订单: 138\n",
      "   - 起点终点相同的订单: 4\n",
      "   - 分配时间异常的订单: 0\n",
      "   - 行程时间为负的订单: 0\n",
      "   - 特殊情况订单总数: 142\n",
      "\n"
     ]
    },
    {
     "name": "stderr",
     "output_type": "stream",
     "text": [
      "\n"
     ]
    }
   ],
   "source": [
    "from traffic_simulator.Simulator import TrafficSimulator\n",
    "from traffic_simulator.tool.DataTool import DataTool\n",
    "\n",
    "input_graphml = \"/home/yuhao/project/data/input_network.graphml\"\n",
    "input_csv = \"/home/yuhao/project/data/input_orders.csv\"\n",
    "\n",
    "G = DataTool.reconstruct_graph(input_path=input_graphml)\n",
    "orders = DataTool.match_orders_to_network(order_path=input_csv, G=G)\n",
    "\n",
    "simulator = TrafficSimulator(\n",
    "    taxi_number=10,\n",
    "    start_time=8*3600,\n",
    "    time_window=300,\n",
    "    road_network=G,\n",
    "    orders_df=orders,\n",
    "    # order_match_strategy=\"random\"\n",
    ")\n",
    "\n",
    "simulator.run_simulation(until_step=144)"
   ]
  }
 ],
 "metadata": {
  "kernelspec": {
   "display_name": "ridesharing",
   "language": "python",
   "name": "python3"
  },
  "language_info": {
   "codemirror_mode": {
    "name": "ipython",
    "version": 3
   },
   "file_extension": ".py",
   "mimetype": "text/x-python",
   "name": "python",
   "nbconvert_exporter": "python",
   "pygments_lexer": "ipython3",
   "version": "3.12.2"
  }
 },
 "nbformat": 4,
 "nbformat_minor": 5
}
